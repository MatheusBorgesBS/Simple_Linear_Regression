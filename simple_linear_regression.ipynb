{
 "cells": [
  {
   "cell_type": "code",
   "execution_count": 91,
   "id": "bb5ddf47-994b-4ba0-9a7f-28d97cd2a8a4",
   "metadata": {},
   "outputs": [],
   "source": [
    "import pandas as pd\n",
    "import matplotlib.pyplot as plt\n",
    "import numpy as np\n",
    "from sklearn.model_selection import train_test_split, cross_val_score, KFold\n",
    "from sklearn.linear_model import LinearRegression\n",
    "from sklearn.metrics import mean_squared_error, make_scorer, r2_score"
   ]
  },
  {
   "cell_type": "code",
   "execution_count": 83,
   "id": "1c1c141b-5a4c-4f04-8832-2e99d17948d9",
   "metadata": {
    "scrolled": true
   },
   "outputs": [
    {
     "data": {
      "text/html": [
       "<div>\n",
       "<style scoped>\n",
       "    .dataframe tbody tr th:only-of-type {\n",
       "        vertical-align: middle;\n",
       "    }\n",
       "\n",
       "    .dataframe tbody tr th {\n",
       "        vertical-align: top;\n",
       "    }\n",
       "\n",
       "    .dataframe thead th {\n",
       "        text-align: right;\n",
       "    }\n",
       "</style>\n",
       "<table border=\"1\" class=\"dataframe\">\n",
       "  <thead>\n",
       "    <tr style=\"text-align: right;\">\n",
       "      <th></th>\n",
       "      <th>Unnamed: 0</th>\n",
       "      <th>YearsExperience</th>\n",
       "      <th>Salary</th>\n",
       "    </tr>\n",
       "  </thead>\n",
       "  <tbody>\n",
       "    <tr>\n",
       "      <th>0</th>\n",
       "      <td>0</td>\n",
       "      <td>1.2</td>\n",
       "      <td>39344.0</td>\n",
       "    </tr>\n",
       "    <tr>\n",
       "      <th>1</th>\n",
       "      <td>1</td>\n",
       "      <td>1.4</td>\n",
       "      <td>46206.0</td>\n",
       "    </tr>\n",
       "    <tr>\n",
       "      <th>2</th>\n",
       "      <td>2</td>\n",
       "      <td>1.6</td>\n",
       "      <td>37732.0</td>\n",
       "    </tr>\n",
       "    <tr>\n",
       "      <th>3</th>\n",
       "      <td>3</td>\n",
       "      <td>2.1</td>\n",
       "      <td>43526.0</td>\n",
       "    </tr>\n",
       "    <tr>\n",
       "      <th>4</th>\n",
       "      <td>4</td>\n",
       "      <td>2.3</td>\n",
       "      <td>39892.0</td>\n",
       "    </tr>\n",
       "  </tbody>\n",
       "</table>\n",
       "</div>"
      ],
      "text/plain": [
       "   Unnamed: 0  YearsExperience   Salary\n",
       "0           0              1.2  39344.0\n",
       "1           1              1.4  46206.0\n",
       "2           2              1.6  37732.0\n",
       "3           3              2.1  43526.0\n",
       "4           4              2.3  39892.0"
      ]
     },
     "execution_count": 83,
     "metadata": {},
     "output_type": "execute_result"
    }
   ],
   "source": [
    "data = pd.read_csv(\"Salary_dataset.csv\")\n",
    "data.head()"
   ]
  },
  {
   "cell_type": "markdown",
   "id": "364ab386-97e4-4633-bc25-15fc2efd61e6",
   "metadata": {},
   "source": [
    "### Vetorizing datas for x and y axis"
   ]
  },
  {
   "cell_type": "code",
   "execution_count": 84,
   "id": "231461c4-4cef-4a41-8afa-3f13b208502d",
   "metadata": {},
   "outputs": [],
   "source": [
    "X = [x for x in data['YearsExperience']]\n",
    "Y = [y for y in data['Salary']]\n"
   ]
  },
  {
   "cell_type": "code",
   "execution_count": 85,
   "id": "e5b32fca-def7-4c5b-9143-30006b803f40",
   "metadata": {},
   "outputs": [],
   "source": [
    "a11 = len(X)\n",
    "a12 = sum(X)\n",
    "b1 = sum(Y)\n",
    "a21 = a12\n",
    "a22 = sum([x**2 for x in X])\n",
    "b2 = sum(X[i]*Y[i] for i in range(len(X)))"
   ]
  },
  {
   "cell_type": "code",
   "execution_count": 86,
   "id": "2da5f9d5-3a6f-437e-a2b4-798b625e295d",
   "metadata": {},
   "outputs": [],
   "source": [
    "A = np.array ([\n",
    "    [a11, a12],\n",
    "    [a21, a22]\n",
    "])\n",
    "B = np.array([b1, b2])\n",
    "\n",
    "sol = np.linalg.solve(A, B)\n",
    "b0 = sol[0]\n",
    "b1 = sol[1]\n",
    "Y_pred = [b0+ b1*x for x in X]"
   ]
  },
  {
   "cell_type": "code",
   "execution_count": 87,
   "id": "799fb892-675c-4245-8d2d-5b07e704ac54",
   "metadata": {},
   "outputs": [
    {
     "data": {
      "image/png": "[encoded data removed]",
      "text/plain": [
       "<Figure size 432x288 with 1 Axes>"
      ]
     },
     "metadata": {
      "needs_background": "light"
     },
     "output_type": "display_data"
    }
   ],
   "source": [
    "plt.scatter(X,Y, color='blue',label='Dados')\n",
    "plt.plot(X,Y_pred, color= 'red', label='Reta de regressão')\n",
    "plt.xlabel('Expreiencia(Anos)')\n",
    "plt.ylabel('Salario')\n",
    "plt.legend()\n",
    "plt.grid(False)\n",
    "plt.show()"
   ]
  },
  {
   "cell_type": "markdown",
   "id": "c4a3ee1e",
   "metadata": {},
   "source": [
    "### Split for train and test, and using K-validation with RMSE"
   ]
  },
  {
   "cell_type": "code",
   "execution_count": 88,
   "id": "34c68490",
   "metadata": {},
   "outputs": [],
   "source": [
    "X_train, x_test, Y_train, y_test = train_test_split(np.array(X),np.array(Y), random_state = 0, train_size = .75)\n",
    "X_train = np.array(X_train).reshape(-1,1)\n",
    "x_test = np.array(x_test).reshape(-1,1)\n"
   ]
  },
  {
   "cell_type": "code",
   "execution_count": 89,
   "id": "6cf46f54",
   "metadata": {},
   "outputs": [
    {
     "name": "stdout",
     "output_type": "stream",
     "text": [
      "R^2: 0.9779208335417602\n",
      "Root Mean Squared Error, Erro médio de: R$4733.70\n"
     ]
    }
   ],
   "source": [
    "reg_all = LinearRegression()    \n",
    "reg_all.fit(X_train,Y_train)\n",
    "\n",
    "y_pred = reg_all.predict(x_test)\n",
    "print(\"R^2: {}\".format(reg_all.score(x_test, y_test)))\n",
    "rmse = np.sqrt(mean_squared_error(y_test, y_pred))\n",
    "print(\"Root Mean Squared Error, Erro médio de: R${:.2f}\".format(rmse))"
   ]
  },
  {
   "cell_type": "code",
   "execution_count": 97,
   "id": "68f39762",
   "metadata": {
    "scrolled": false
   },
   "outputs": [],
   "source": [
    "#kfold = KFold(n_splits=5, shuffle=True, random_state=5)\n",
    "\n",
    "#rmse_scorer = make_scorer(mean_squared_error, squared=False)\n",
    "\n",
    "\n",
    "#rmse_scores = cross_val_score(reg_all, X_train, Y_train, scoring=rmse_scorer, cv=kfold)\n",
    "\n",
    "#r2_scores = cross_val_score(reg_all, X_train, Y_train, scoring='r2', cv=kfold)\n",
    "\n",
    "\n",
    "#print(f'RMSE médio: R${np.mean(rmse_scores):.2f}')\n",
    "#print(f'R² médio: {np.mean(r2_scores):.4f}')\n",
    "\n"
   ]
  },
  {
   "cell_type": "code",
   "execution_count": null,
   "id": "7c1f7be8",
   "metadata": {},
   "outputs": [],
   "source": []
  }
 ],
 "metadata": {
  "kernelspec": {
   "display_name": "Python 3 (ipykernel)",
   "language": "python",
   "name": "python3"
  },
  "language_info": {
   "codemirror_mode": {
    "name": "ipython",
    "version": 3
   },
   "file_extension": ".py",
   "mimetype": "text/x-python",
   "name": "python",
   "nbconvert_exporter": "python",
   "pygments_lexer": "ipython3",
   "version": "3.10.12"
  }
 },
 "nbformat": 4,
 "nbformat_minor": 5
}
